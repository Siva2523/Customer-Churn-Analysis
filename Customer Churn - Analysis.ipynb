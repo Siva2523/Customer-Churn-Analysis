{
 "cells": [
  {
   "cell_type": "markdown",
   "id": "f1946e80",
   "metadata": {},
   "source": [
    "## Import Liabraries"
   ]
  },
  {
   "cell_type": "code",
   "execution_count": null,
   "id": "6b7d70ab",
   "metadata": {},
   "outputs": [],
   "source": [
    "import pandas as pd\n",
    "import numpy as np"
   ]
  },
  {
   "cell_type": "code",
   "execution_count": null,
   "id": "cbab3c09",
   "metadata": {},
   "outputs": [],
   "source": [
    "df=pd.read_csv(r\"https://raw.githubusercontent.com/dsrscientist/DSData/master/Telecom_customer_churn.csv\")"
   ]
  },
  {
   "cell_type": "code",
   "execution_count": null,
   "id": "daa2c9d9",
   "metadata": {},
   "outputs": [],
   "source": [
    "pd.set_option(\"display.max_columns\",None)\n",
    "df"
   ]
  },
  {
   "cell_type": "markdown",
   "id": "b10e770f",
   "metadata": {},
   "source": [
    "Here we have imported dataset using pd.read_csv and the set the option to display all the columns present in the dataset.\n",
    "\n",
    "The dataset contains the details of customers in which both numerical and categorical data are present.Here \"Churn\" is the target variable which contains two categories so it will termed as \"classification problem\" where we need to predict the several customer churn using the classification models."
   ]
  },
  {
   "cell_type": "markdown",
   "id": "2cf3a3ae",
   "metadata": {},
   "source": [
    "## Importing Neccessary Liabraries"
   ]
  },
  {
   "cell_type": "code",
   "execution_count": null,
   "id": "fae173b6",
   "metadata": {},
   "outputs": [],
   "source": [
    "import matplotlib.pyplot as plt\n",
    "import seaborn as sns\n",
    "import datetime as dt\n",
    "import os\n",
    "import scipy as stats\n",
    "%matplotlib inline\n",
    "\n",
    "import warnings\n",
    "warnings.filterwarnings('ignore')"
   ]
  },
  {
   "cell_type": "markdown",
   "id": "528d7f67",
   "metadata": {},
   "source": [
    "## Exploratory Data Analysis"
   ]
  },
  {
   "cell_type": "code",
   "execution_count": null,
   "id": "2bfc57dc",
   "metadata": {},
   "outputs": [],
   "source": [
    "df.shape"
   ]
  },
  {
   "cell_type": "code",
   "execution_count": null,
   "id": "429daea9",
   "metadata": {},
   "outputs": [],
   "source": [
    "df.columns"
   ]
  },
  {
   "cell_type": "code",
   "execution_count": null,
   "id": "ef269fb0",
   "metadata": {},
   "outputs": [],
   "source": [
    "# Checking the null values in dataframe\n",
    "df.isnull().sum()"
   ]
  },
  {
   "cell_type": "code",
   "execution_count": null,
   "id": "f44897cb",
   "metadata": {},
   "outputs": [],
   "source": [
    "df.dtypes"
   ]
  },
  {
   "cell_type": "markdown",
   "id": "c4f1ccc5",
   "metadata": {},
   "source": [
    "There are three different datatypes present in the dataset. there is one column is float data type and two are integer datatypes and remaining are object datatype which is 19 present in the data types."
   ]
  },
  {
   "cell_type": "code",
   "execution_count": null,
   "id": "a34704a0",
   "metadata": {},
   "outputs": [],
   "source": [
    "# checking the value counts of each columns\n",
    "for i in df.columns:\n",
    "    print(df[i].value_counts())\n",
    "    print('*'*50)"
   ]
  },
  {
   "cell_type": "code",
   "execution_count": null,
   "id": "e3c27f41",
   "metadata": {},
   "outputs": [],
   "source": [
    "df[\"TotalCharges\"].unique()"
   ]
  },
  {
   "cell_type": "markdown",
   "id": "672b40d2",
   "metadata": {},
   "source": [
    "we can observe that the \"TotalCharges\" has the continuous data but when we checked the data type its showing object data type due to some reason also if we notice the value counts,11 rows of this column has blank data. let's handle this column."
   ]
  },
  {
   "cell_type": "code",
   "execution_count": null,
   "id": "8e9f5474",
   "metadata": {},
   "outputs": [],
   "source": [
    "# checking the space in TotalCharges column\n",
    "df.loc[df[\"TotalCharges\"]==\" \"]"
   ]
  },
  {
   "cell_type": "markdown",
   "id": "7fd238d6",
   "metadata": {},
   "source": [
    "By locating the TotalCharges we can find this column ha space as values but it has showing 0 missing values in this columns, let's fill this column by some values and then we will convert this into float type."
   ]
  },
  {
   "cell_type": "code",
   "execution_count": null,
   "id": "c63beb92",
   "metadata": {},
   "outputs": [],
   "source": [
    "df[\"TotalCharges\"] = df[\"TotalCharges\"].replace(\" \",np.nan)\n",
    "df[\"TotalCharges\"].value_counts()"
   ]
  },
  {
   "cell_type": "code",
   "execution_count": null,
   "id": "76cd7157",
   "metadata": {},
   "outputs": [],
   "source": [
    "# converting the object data type into float data type\n",
    "df['TotalCharges'] = df['TotalCharges'].astype(float)\n",
    "df['TotalCharges'].dtype"
   ]
  },
  {
   "cell_type": "markdown",
   "id": "39daf8c8",
   "metadata": {},
   "source": [
    "successfully we had converted into float data type, because of some reason that it shows the object datatype. Now all the column of TotalCharges had all float numbers in the dataset is float data type."
   ]
  },
  {
   "cell_type": "code",
   "execution_count": null,
   "id": "0f1cc1d5",
   "metadata": {},
   "outputs": [],
   "source": [
    "# let's check the null values again\n",
    "df.isnull().sum()"
   ]
  },
  {
   "cell_type": "markdown",
   "id": "428048d8",
   "metadata": {},
   "source": [
    "Since we have filled the blank spaces in TotalCharges column with nan values, it's showing 11 null values in that column. Replacing the NAN values using mean method as the column TotalCharges is continuous in nature. Let's handle this column"
   ]
  },
  {
   "cell_type": "code",
   "execution_count": null,
   "id": "89b51eee",
   "metadata": {},
   "outputs": [],
   "source": [
    "# checking teh mean of TotalCharges column\n",
    "print(\"The mean value of TotalCharges is:\",df[\"TotalCharges\"].mean())"
   ]
  },
  {
   "cell_type": "code",
   "execution_count": null,
   "id": "3db8674c",
   "metadata": {},
   "outputs": [],
   "source": [
    "# filling the null values in TotalCharges with its mean\n",
    "df[\"TotalCharges\"] = df[\"TotalCharges\"].fillna(df[\"TotalCharges\"].mean())"
   ]
  },
  {
   "cell_type": "code",
   "execution_count": null,
   "id": "8bfc394b",
   "metadata": {},
   "outputs": [],
   "source": [
    "# let's check the null values again\n",
    "sns.heatmap(df.isnull(),cmap=\"cool_r\")\n",
    "plt.show()"
   ]
  },
  {
   "cell_type": "code",
   "execution_count": null,
   "id": "501320fc",
   "metadata": {},
   "outputs": [],
   "source": [
    "df.info()"
   ]
  },
  {
   "cell_type": "markdown",
   "id": "5aba27be",
   "metadata": {},
   "source": [
    "By info method we can get the information about the dataset which includes indexing type, column type, non-null values and memory usage. Here we can see there are 3 types of data present, 2 integer data type, 2 float data type, and remaining 17 columns have object data type. We will use encoding methods to convert this object type data into numerical data in the later part."
   ]
  },
  {
   "cell_type": "code",
   "execution_count": null,
   "id": "a8dcf9be",
   "metadata": {},
   "outputs": [],
   "source": [
    "# separting numerical and categorical columns\n",
    "\n",
    "#checking for categorical columns\n",
    "categorical_col=[]\n",
    "for i in df.dtypes.index:\n",
    "    if df.dtypes[i]=='object':\n",
    "        categorical_col.append(i)\n",
    "print(\"Categorical columns are:\\n\",categorical_col)\n",
    "print(\"\\n\")\n",
    "\n",
    "# Now checking for numerical columns\n",
    "numerical_col=[]\n",
    "for i in df.dtypes.index:\n",
    "    if df.dtypes[i]!='object':\n",
    "        numerical_col.append(i)\n",
    "print(\"Numerical_columns are:\\n\",numerical_col)"
   ]
  },
  {
   "cell_type": "markdown",
   "id": "4165ca82",
   "metadata": {},
   "source": [
    "We have separated the object data type columns and Numerical data type columns. Most of the columns have object data type, we will use encoding techniques to convert them into numerical in the later part."
   ]
  },
  {
   "cell_type": "code",
   "execution_count": null,
   "id": "09706f22",
   "metadata": {},
   "outputs": [],
   "source": [
    "# Checking number of unique values in each column\n",
    "df.nunique().to_frame(\"No of Unique Values\")"
   ]
  },
  {
   "cell_type": "markdown",
   "id": "49168e50",
   "metadata": {},
   "source": [
    "These are the unique values present in the dataset. Here CustomerID column has the data of unique ID given to the customers which is not required for the predictions. Let's drop this column."
   ]
  },
  {
   "cell_type": "code",
   "execution_count": null,
   "id": "50f0beea",
   "metadata": {},
   "outputs": [],
   "source": [
    "#Dropping CustomerID column\n",
    "df.drop('customerID',axis=1,inplace=True)"
   ]
  },
  {
   "cell_type": "code",
   "execution_count": null,
   "id": "69f508d0",
   "metadata": {},
   "outputs": [],
   "source": [
    "# Checking the list of counts of target\n",
    "df['Churn'].unique() "
   ]
  },
  {
   "cell_type": "markdown",
   "id": "51a687b2",
   "metadata": {},
   "source": [
    "There are two categories present in the target column namely \"No\" and \"Yes\"."
   ]
  },
  {
   "cell_type": "code",
   "execution_count": null,
   "id": "d7c46f3b",
   "metadata": {},
   "outputs": [],
   "source": [
    "#Checking the unique values in target column\n",
    "df['Churn'].value_counts()"
   ]
  },
  {
   "cell_type": "markdown",
   "id": "3a568be0",
   "metadata": {},
   "source": [
    "There are two categories in the column Churn namely No and Yes. We can assume that \"No\" stands for the customers who have not churned and \"Yes\" stands for the customers who have got churned from the company."
   ]
  },
  {
   "cell_type": "markdown",
   "id": "659cf8c7",
   "metadata": {},
   "source": [
    "## Description of Dataset"
   ]
  },
  {
   "cell_type": "code",
   "execution_count": null,
   "id": "e57894d2",
   "metadata": {},
   "outputs": [],
   "source": [
    "df.describe()"
   ]
  },
  {
   "cell_type": "markdown",
   "id": "39356444",
   "metadata": {},
   "source": [
    "This gives the statistical information of the numerical columns. The summary of this dataset looks perfect since there is no negative/ invalid values present.\n",
    "\n",
    "From the above description we can observe the following things.\n",
    "\n",
    "The counts of all the 3 columns are same which means there are no missing values in the dataset.\n",
    "The mean value is greater than the median(50%) in tenure and TotalCharges columns which means the data is skewed to right in these columns.\n",
    "The data in the column MonthlyCharges have mean value less than median that means the data is skewed to left.\n",
    "By summarising the data we can observe there is huge difference between 75% and max hence there are outliers present in the data which we will remove them later on using appropriate methods.\n",
    "We can also notice the Standard deviation, min, 25% percentile values from this describe method."
   ]
  },
  {
   "cell_type": "markdown",
   "id": "4b2abc9f",
   "metadata": {},
   "source": [
    "## DATA VISUALIZATION"
   ]
  },
  {
   "cell_type": "markdown",
   "id": "41a54294",
   "metadata": {},
   "source": [
    "#### Univariate Analysis"
   ]
  },
  {
   "cell_type": "markdown",
   "id": "5ce17e78",
   "metadata": {},
   "source": [
    "#### Plotting categorical columns"
   ]
  },
  {
   "cell_type": "code",
   "execution_count": null,
   "id": "03bc7108",
   "metadata": {},
   "outputs": [],
   "source": [
    "#visualize the number of churned customers\n",
    "print(df[\"Churn\"].value_counts())\n",
    "sns.countplot(df[\"Churn\"],palette=\"cool\")\n",
    "plt.show()"
   ]
  },
  {
   "cell_type": "markdown",
   "id": "1c9cca14",
   "metadata": {},
   "source": [
    "From the count plot we can observe that the count of \"No Churn\" are high compared to the count of \"Yes Churn\". That is there are more number of customers who have not churned. This leads to class imbalance issue in the data, we will rectify it by using oversampling method in later part."
   ]
  },
  {
   "cell_type": "code",
   "execution_count": null,
   "id": "4c163d4f",
   "metadata": {},
   "outputs": [],
   "source": [
    "#Visualize the count of Gender\n",
    "print(df['gender'].value_counts())\n",
    "labels='Male','Female'\n",
    "fig, ax = plt.subplots(figsize=(6,6))\n",
    "colors=[\"g\",\"crimson\"]\n",
    "ax.pie(df['gender'].value_counts(), labels=labels, autopct='%1.2f%%', shadow=True,colors=colors)\n",
    "plt.show()"
   ]
  },
  {
   "cell_type": "markdown",
   "id": "bd7421e6",
   "metadata": {},
   "source": [
    "From the plot we can observe the total number of male and female customers are almost same, but still the count of male is 3555 which is high compared to count of female which has 3488 counts."
   ]
  },
  {
   "cell_type": "code",
   "execution_count": null,
   "id": "4a826a10",
   "metadata": {},
   "outputs": [],
   "source": [
    "#visualize the count of Gender\n",
    "print(df['SeniorCitizen'].value_counts())\n",
    "labels='0','1'\n",
    "fig, ax = plt.subplots(figsize=(6,6))\n",
    "colors=[\"y\",\"teal\"]\n",
    "ax.pie(df['SeniorCitizen'].value_counts(), labels=labels, autopct='%1.2f%%', shadow=True,explode=(0.08,0),colors=colors)\n",
    "plt.show()"
   ]
  },
  {
   "cell_type": "markdown",
   "id": "c471c45d",
   "metadata": {},
   "source": [
    "Here 0 represents the non senoir citizens and 1 represents the senior citizens. The count of 0 is high in data compared to 1 which means the number non-seniorcitizens are quite high compared to senior citizens data in the given dataset. Around 83% of the customers are non-senior citizens and only 16% are senior citizens."
   ]
  },
  {
   "cell_type": "code",
   "execution_count": null,
   "id": "3f57c658",
   "metadata": {},
   "outputs": [],
   "source": [
    "# visualizing how many customers have their partners\n",
    "print(df[\"Partner\"].value_counts())\n",
    "sns.countplot(df[\"Partner\"],palette=\"Set1\")\n",
    "plt.show()"
   ]
  },
  {
   "cell_type": "markdown",
   "id": "c86b013a",
   "metadata": {},
   "source": [
    "The count for partner details are almost similar and the customers who do not have partners are bit higher than who have partners."
   ]
  },
  {
   "cell_type": "code",
   "execution_count": null,
   "id": "c9f69864",
   "metadata": {},
   "outputs": [],
   "source": [
    "# visualize the count of Gender\n",
    "print(df['Dependents'].value_counts())\n",
    "labels='No','Yes'\n",
    "fig, ax = plt.subplots(figsize=(6,6))\n",
    "colors=[\"tab:green\",\"darkorange\"]\n",
    "ax.pie(df['Dependents'].value_counts(), labels=labels, autopct='%1.2f%%', shadow=False,explode=(0.05,0),colors=colors)\n",
    "plt.show()"
   ]
  },
  {
   "cell_type": "markdown",
   "id": "0bc20c9a",
   "metadata": {},
   "source": [
    "The customers who have dependents are very less in counts that means they do not have anyone dependent on them. Here around 70% of customers have dependents only 29.96% have no dependents."
   ]
  },
  {
   "cell_type": "code",
   "execution_count": null,
   "id": "bda0f78c",
   "metadata": {},
   "outputs": [],
   "source": [
    "# visualizing how many customers have phone service\n",
    "print(df[\"PhoneService\"].value_counts())\n",
    "sns.countplot(df[\"PhoneService\"],palette=\"magma\")\n",
    "plt.show()"
   ]
  },
  {
   "cell_type": "markdown",
   "id": "cf77d30b",
   "metadata": {},
   "source": [
    "The customers who have phone services are large in numbers and who do not own phone services are very less in number."
   ]
  },
  {
   "cell_type": "code",
   "execution_count": null,
   "id": "5f04160f",
   "metadata": {},
   "outputs": [],
   "source": [
    "# visualizing count of multiple lines\n",
    "print(df[\"MultipleLines\"].value_counts())\n",
    "sns.countplot(df[\"MultipleLines\"],palette=\"prism\")\n",
    "plt.show()"
   ]
  },
  {
   "cell_type": "markdown",
   "id": "8c0ba1fc",
   "metadata": {},
   "source": [
    "The customers who have phone services from single line have high counts compared to the customers having phone services from multiple lines, also the customers who do not have phone services have covered very less data compared to others."
   ]
  },
  {
   "cell_type": "code",
   "execution_count": null,
   "id": "5187b282",
   "metadata": {},
   "outputs": [],
   "source": [
    "# visualizing how many customers have internet services\n",
    "print(df[\"InternetService\"].value_counts())\n",
    "sns.countplot(df[\"InternetService\"],palette=\"husl\")\n",
    "plt.show()"
   ]
  },
  {
   "cell_type": "markdown",
   "id": "ad32e4d5",
   "metadata": {},
   "source": [
    "Most of the customers have chosen to get Fiber optic internet followed by DSL, but there are many customers who do not get an internet service."
   ]
  },
  {
   "cell_type": "code",
   "execution_count": null,
   "id": "81c6855b",
   "metadata": {},
   "outputs": [],
   "source": [
    "# visualizing how many customers have online security\n",
    "print(df[\"OnlineSecurity\"].value_counts())\n",
    "sns.countplot(df[\"OnlineSecurity\"],palette=\"plasma\")\n",
    "plt.show()"
   ]
  },
  {
   "cell_type": "markdown",
   "id": "adb3137c",
   "metadata": {},
   "source": [
    "It is obvious that the customers who have internet services they needs online security and who do not own any internet services, they do not need any online security. But from the count plot we can observe the majority of customers who have internet services but they do not use any online security."
   ]
  },
  {
   "cell_type": "code",
   "execution_count": null,
   "id": "d5165f38",
   "metadata": {},
   "outputs": [],
   "source": [
    "# visualizing how many customers have online backup\n",
    "print(df['OnlineBackup'].value_counts())\n",
    "labels='No','Yes',\"No Internet services\"\n",
    "fig, ax = plt.subplots(figsize=(6,6))\n",
    "colors=[\"teal\",\"darkorange\",\"hotpink\"]\n",
    "ax.pie(df['OnlineBackup'].value_counts(),labels=labels, autopct='%1.2f%%', shadow=False,colors=colors)\n",
    "plt.show()"
   ]
  },
  {
   "cell_type": "markdown",
   "id": "686e2856",
   "metadata": {},
   "source": [
    "It is obvious that the customers who do not own internet services and online security, they do not need online backup usage. From the plot we can see the majority of customers who own internet services they do not have Online backup and the customers who own internet services have very less online backup. Also the customers who do not have internet services have very less online backup counts compared to others."
   ]
  },
  {
   "cell_type": "code",
   "execution_count": null,
   "id": "08a3d1d1",
   "metadata": {},
   "outputs": [],
   "source": [
    "# visualizing how many customers have deviceprotection\n",
    "print(df[\"DeviceProtection\"].value_counts())\n",
    "labels='No','Yes',\"No internet services\"\n",
    "fig, ax = plt.subplots(figsize=(6,6))\n",
    "colors=[\"r\",\"g\",\"maroon\"]\n",
    "ax.pie(df['DeviceProtection'].value_counts(),labels=labels,autopct='%1.2f%%',shadow=False,colors=colors)\n",
    "plt.show()\n"
   ]
  },
  {
   "cell_type": "markdown",
   "id": "8e81f8b7",
   "metadata": {},
   "source": [
    "From the count plot we can notice that the customers without any device protection have high counts as compared to the customers who have some kind of device protection. And the customers who do not have internet access they do not need any device protection."
   ]
  },
  {
   "cell_type": "code",
   "execution_count": null,
   "id": "d4a1bee2",
   "metadata": {},
   "outputs": [],
   "source": [
    "# visualizing how many customers have Techsupport \n",
    "print(df['TechSupport'].value_counts())\n",
    "labels='No','Yes',\"No internet srvices\"\n",
    "fig, ax = plt.subplots(figsize=(6,6))\n",
    "colors=['g','tab:brown','violet']\n",
    "ax.pie(df['TechSupport'].value_counts(), labels=labels, autopct='%1.2f%%', shadow=False,colors=colors)\n",
    "plt.show()"
   ]
  },
  {
   "cell_type": "markdown",
   "id": "5e961a76",
   "metadata": {},
   "source": [
    "The customers who do not need any technical support are high in counts compared to the customers who need technical support. Around 49% of the people do not need any technical support and only 29% needs."
   ]
  },
  {
   "cell_type": "code",
   "execution_count": null,
   "id": "4ec64aa3",
   "metadata": {},
   "outputs": [],
   "source": [
    "# visualizing how many customers have streamingtv\n",
    "print(df[\"StreamingTV\"].value_counts())\n",
    "sns.countplot(df[\"StreamingTV\"],palette=\"mako\")\n",
    "plt.show\n"
   ]
  },
  {
   "cell_type": "markdown",
   "id": "f9a7757c",
   "metadata": {},
   "source": [
    "The customers who do not use streamingTV have little bit high in numbers than the customers who do use StreamingTV. And the customers who do not own internet they do not have this service much."
   ]
  },
  {
   "cell_type": "code",
   "execution_count": null,
   "id": "74082a0e",
   "metadata": {},
   "outputs": [],
   "source": [
    "# visualizing how many customers have streamingmovies\n",
    "print(df[\"StreamingMovies\"].value_counts())\n",
    "sns.countplot(df[\"StreamingMovies\"],palette=\"bright\")\n",
    "plt.show()"
   ]
  },
  {
   "cell_type": "markdown",
   "id": "387c42e2",
   "metadata": {},
   "source": [
    "The customers who do not have Streaming movies are high in count followed by the customers who have Streaming movies services. And the customers who do not have internet services, they have less streaming movies services compared to others."
   ]
  },
  {
   "cell_type": "code",
   "execution_count": null,
   "id": "67a6ad12",
   "metadata": {},
   "outputs": [],
   "source": [
    "# visualizing how many customers have contract\n",
    "print(df[\"Contract\"].value_counts())\n",
    "sns.countplot(df[\"Contract\"],palette=\"PuRd\")\n",
    "plt.show()"
   ]
  },
  {
   "cell_type": "markdown",
   "id": "b7ac3165",
   "metadata": {},
   "source": [
    "Most of the customers prefer Month to Month contract compared to 1 year and 2 years contract but where as next prefer goes to two year contract rather than one year contract."
   ]
  },
  {
   "cell_type": "code",
   "execution_count": null,
   "id": "eb44ce91",
   "metadata": {},
   "outputs": [],
   "source": [
    "# visualizing how many customers have paymentmethod\n",
    "print(df['PaperlessBilling'].value_counts())\n",
    "labels='Yes','No'\n",
    "fig, ax = plt.subplots(figsize=(6,6))\n",
    "colors=[\"lime\",\"maroon\"]\n",
    "ax.pie(df['PaperlessBilling'].value_counts(), labels=labels, autopct='%1.2f%%', shadow=False, colors=colors)\n",
    "plt.show()"
   ]
  },
  {
   "cell_type": "markdown",
   "id": "bd470fbd",
   "metadata": {},
   "source": [
    "Most of the customers prefer paperless billing and average number of customers who do not prefer paper less billing, they may like to receive paper billing."
   ]
  },
  {
   "cell_type": "code",
   "execution_count": null,
   "id": "5d989ad2",
   "metadata": {},
   "outputs": [],
   "source": [
    "# visualizing how many customers have contract\n",
    "print(df[\"PaymentMethod\"].value_counts())\n",
    "sns.countplot(df[\"PaymentMethod\"],palette=\"mako\")\n",
    "plt.xticks(rotation=70)\n",
    "plt.show()\n"
   ]
  },
  {
   "cell_type": "markdown",
   "id": "15b87424",
   "metadata": {},
   "source": [
    "Most of the customers prefer Electronic check payment method and the customers who prefer Mailed Check, bank transfer and Credit card have average in count."
   ]
  },
  {
   "cell_type": "markdown",
   "id": "e6391046",
   "metadata": {},
   "source": [
    "## Plotting Numerical Columns"
   ]
  },
  {
   "cell_type": "code",
   "execution_count": null,
   "id": "0eb865c9",
   "metadata": {},
   "outputs": [],
   "source": [
    "# Lets check how the data has been distributed in remaining columns\n",
    "plt.figure(figsize=(10,6),facecolor='white')\n",
    "plotnumber=1\n",
    "for column in numerical_col:\n",
    "    if plotnumber<=4:\n",
    "        ax=plt.subplot(2,2,plotnumber)\n",
    "        sns.distplot(df[column],color='m')\n",
    "        plt.xlabel(column,fontsize=10)\n",
    "        plt.yticks(rotation=0,fontsize=15)\n",
    "    plotnumber+=1\n",
    "plt.tight_layout()    "
   ]
  },
  {
   "cell_type": "markdown",
   "id": "d6bbf472",
   "metadata": {},
   "source": [
    "From the above distribution plots we can notice that data almost looks normal in all columns expect seniorCitizen.And the data in the column TotalCharges is skewed to right. Other two columns tenure and MonthlyCharges do not have skewness."
   ]
  },
  {
   "cell_type": "markdown",
   "id": "00fca691",
   "metadata": {},
   "source": [
    "## Bivariate Analysis"
   ]
  },
  {
   "cell_type": "code",
   "execution_count": null,
   "id": "2a872707",
   "metadata": {},
   "outputs": [],
   "source": [
    "# Comparing tenure and seniorcitizen\n",
    "plt.title(\"Comparision between SeniorCitizen and Tenure\")\n",
    "sns.stripplot(x= \"SeniorCitizen\",y=\"tenure\",data=df)\n",
    "plt.show()"
   ]
  },
  {
   "cell_type": "markdown",
   "id": "5b27d1ee",
   "metadata": {},
   "source": [
    "There is no significant difference between the features(tenure&seniorcitizen), here both the feature are in equal length."
   ]
  },
  {
   "cell_type": "code",
   "execution_count": null,
   "id": "4c98611a",
   "metadata": {},
   "outputs": [],
   "source": [
    "# comparing gender and monthlycharges\n",
    "plt.title(\"Comparsion betwen gender and MonthlyCharges\")\n",
    "sns.violinplot(x= \"gender\",y=\"MonthlyCharges\", data = df,hue=\"Churn\",split=True)\n",
    "plt.show()"
   ]
  },
  {
   "cell_type": "markdown",
   "id": "d42eb8ff",
   "metadata": {},
   "source": [
    "Both male and female customers with monthly charges above 60 have high chances of getting churned."
   ]
  },
  {
   "cell_type": "code",
   "execution_count": null,
   "id": "0d9d167b",
   "metadata": {},
   "outputs": [],
   "source": [
    "# comparing tenure and TotalCharges\n",
    "plt.title(\"Comparsion between tenure and TotalCharges\")\n",
    "sns.scatterplot(x= \"tenure\",y= \"TotalCharges\", data = df,hue=\"Churn\",palette=\"mako\")\n",
    "plt.show()"
   ]
  },
  {
   "cell_type": "markdown",
   "id": "3f76431b",
   "metadata": {},
   "source": [
    "Here we can notice the strong linear relation between the features.\n",
    "As the tenure increases, TotalCharges also increases rapidly. If the customers have low tenure services then there is high chance of churn."
   ]
  },
  {
   "cell_type": "code",
   "execution_count": null,
   "id": "c7fe2ef7",
   "metadata": {},
   "outputs": [],
   "source": [
    "# comparing gender and seniorcitizen on the basis of churn\n",
    "plt.title(\"Comparsion between churn and gender\")\n",
    "sns.barplot(x=\"gender\",y=\"SeniorCitizen\",data=df,palette=\"winter_r\",hue=\"Churn\")\n",
    "plt.show()"
   ]
  },
  {
   "cell_type": "markdown",
   "id": "8cd91b76",
   "metadata": {},
   "source": [
    "There is no significant difference between the columns. The customer's churns remains unaffected in gender and SeniorCitizen case."
   ]
  },
  {
   "cell_type": "code",
   "execution_count": null,
   "id": "96533697",
   "metadata": {},
   "outputs": [],
   "source": [
    "# comparing totalcharges and monthly charges\n",
    "plt.title('Comparsion between TotalCharges and MonthlyCharges')\n",
    "sns.scatterplot(x=\"TotalCharges\",y=\"MonthlyCharges\",data=df,hue=\"Churn\",palette=\"bright\")\n",
    "plt.show()"
   ]
  },
  {
   "cell_type": "markdown",
   "id": "4aa49c9d",
   "metadata": {},
   "source": [
    "There is a linear relation between the features. The customers with high monthly charges have high tendancy to stop the services since they have high total charges.\n",
    "Also the if the customers ready to contribute with the monthly charges then there is an increment in the total charges."
   ]
  },
  {
   "cell_type": "code",
   "execution_count": null,
   "id": "7e4285fd",
   "metadata": {},
   "outputs": [],
   "source": [
    "fig, axes=plt.subplots(2,2,figsize=(12,10))\n",
    "\n",
    "# checking churn level in tenure\n",
    "sns.barplot(x='Dependents',y='tenure',ax=axes[0,0],data=df,palette=\"Dark2\",hue=\"Churn\")\n",
    "\n",
    "# checking churn level in totalcharges\n",
    "sns.violinplot(x='Dependents',y='TotalCharges',ax=axes[0,1],data=df,palette=\"Dark2\",hue=\"Churn\",split=True)\n",
    "\n",
    "# checking churn level in  monthlycharges\n",
    "sns.violinplot(x='Dependents',y='MonthlyCharges',ax=axes[1,0],data=df,palette=\"Dark2\",hue=\"Churn\",split=True)\n",
    "\n",
    "# checking churn level in seniorcitizen\n",
    "sns.barplot(x='Dependents',y='SeniorCitizen',ax=axes[1,1],data=df,palette=\"Dark2\",hue=\"Churn\")\n",
    "plt.show()"
   ]
  },
  {
   "cell_type": "markdown",
   "id": "ed31c843",
   "metadata": {},
   "source": [
    "The customers who have dependents with high tenure, then the churned level is high80-110.\n",
    "\n",
    "The customers who have total charges in the range of 0-2000 with dependents then the chance of getting churned is high.\n",
    "\n",
    "The customers having Monthly charges between 80-110 with dependents have high churn rate and when the customers have no dependents and having monthly charges around 20 then teh ratio of churn is very high.\n",
    "\n",
    "If the customer is a senior citizen and have no dependents then there is a tendancy of getting churned."
   ]
  },
  {
   "cell_type": "code",
   "execution_count": null,
   "id": "9f40aef5",
   "metadata": {},
   "outputs": [],
   "source": [
    "#checking churn level and gender\n",
    "sns.catplot(x='Churn',col='gender',data=df,kind=\"count\",palette=\"spring_r\")\n",
    "\n",
    "# checking churn level and gender\n",
    "sns.catplot(x='Churn',col='Partner',data=df,palette=\"tab20b_r\",kind=\"count\")\n",
    "\n",
    "#checking churn level in dependents\n",
    "sns.catplot(x='Churn',col='Dependents',data=df,palette=\"twilight_shifted\",kind=\"count\")\n",
    "            \n",
    "#checking churn level in phoneservice\n",
    "sns.catplot(x='Churn',col='PhoneService',data=df,palette=\"Dark2\",kind=\"count\")\n",
    "plt.show()"
   ]
  },
  {
   "cell_type": "markdown",
   "id": "f9759e06",
   "metadata": {},
   "source": [
    "In the first plot we can see there is no significance difference in the genders, both the genders have equal churn level.\n",
    "\n",
    "In the second plot we can see the customers without partners have high churn rate compared to the customers with partners.\n",
    "\n",
    "The customers who do not have any dependency have high churn rate compared to the customers who have dependents.\n",
    "\n",
    "In the last plot we can notice the customers who have phone service have high tendency of getting churned."
   ]
  },
  {
   "cell_type": "code",
   "execution_count": null,
   "id": "4e665b37",
   "metadata": {},
   "outputs": [],
   "source": [
    "#checking churn level and multiplelines\n",
    "sns.catplot(x='MultipleLines',col='Churn',palette=\"ocean\",kind=\"count\",data=df)\n",
    "plt.show()"
   ]
  },
  {
   "cell_type": "markdown",
   "id": "4b05a15d",
   "metadata": {},
   "source": [
    "The customers who have phone services from single line have high churn rate compared to the customers having phone services from multiple lines, also there are very less number of customers who do not have phone services."
   ]
  },
  {
   "cell_type": "code",
   "execution_count": null,
   "id": "21f7b35b",
   "metadata": {},
   "outputs": [],
   "source": [
    "#checking churn level in internetservice\n",
    "sns.catplot(x='InternetService',col='Churn',palette=\"bright\",kind=\"count\",data=df)\n",
    "plt.show()"
   ]
  },
  {
   "cell_type": "markdown",
   "id": "7a0bac1f",
   "metadata": {},
   "source": [
    "The ratio of churn is high when the customers prefer Fiber optic internet services compared to other services, may be this type of service is bad and and need to be focused on. And the customers who own DSL service they have very less churn rate."
   ]
  },
  {
   "cell_type": "code",
   "execution_count": null,
   "id": "14fb431f",
   "metadata": {},
   "outputs": [],
   "source": [
    "#checking churn level in onlinesecurity\n",
    "sns.catplot(x='OnlineSecurity',col='Churn',palette=\"icefire\",kind=\"count\",data=df)\n",
    "plt.show()"
   ]
  },
  {
   "cell_type": "markdown",
   "id": "cd7588dc",
   "metadata": {},
   "source": [
    "The customers who have no internet service have very less churn rate and the customers who do not have online security services have high tendency to getting churned."
   ]
  },
  {
   "cell_type": "code",
   "execution_count": null,
   "id": "d396ce6d",
   "metadata": {},
   "outputs": [],
   "source": [
    "# checking churn level in onlinebackup\n",
    "sns.catplot(x='OnlineBackup',col='Churn',palette=\"prism\",kind=\"count\",data=df)\n",
    "plt.show()"
   ]
  },
  {
   "cell_type": "markdown",
   "id": "907da622",
   "metadata": {},
   "source": [
    "It is also same as in the case of online security. It is obvious that the customers having who do not have internet services they do not need any online backup. The customers who do not have online backup services they have high churn rate."
   ]
  },
  {
   "cell_type": "code",
   "execution_count": null,
   "id": "e607aa82",
   "metadata": {},
   "outputs": [],
   "source": [
    "# checking churn level in deviceprotection\n",
    "sns.catplot(x='DeviceProtection',hue='Churn',palette=\"gist_heat\",kind=\"count\",data=df)\n",
    "plt.show()"
   ]
  },
  {
   "cell_type": "markdown",
   "id": "05a911c0",
   "metadata": {},
   "source": [
    "The customers who do not own any Device protection have very high churn rate compared to others."
   ]
  },
  {
   "cell_type": "code",
   "execution_count": null,
   "id": "0c1eaa03",
   "metadata": {},
   "outputs": [],
   "source": [
    "# checking churn level in techsupport\n",
    "sns.catplot(x='TechSupport',col='Churn',palette=\"Set2_r\",kind=\"count\",data=df)\n",
    "plt.show()"
   ]
  },
  {
   "cell_type": "markdown",
   "id": "34d47bdd",
   "metadata": {},
   "source": [
    "Here we can clearly see that the customers who do not have any techsupport then they have high churn ratio."
   ]
  },
  {
   "cell_type": "code",
   "execution_count": null,
   "id": "046641b8",
   "metadata": {},
   "outputs": [],
   "source": [
    "#checking churn level in streamingTv\n",
    "sns.catplot(x='StreamingTV',hue='Churn',palette=\"cool_r\",kind=\"count\",data=df)\n",
    "plt.show()\n"
   ]
  },
  {
   "cell_type": "markdown",
   "id": "529e8d0d",
   "metadata": {},
   "source": [
    "The churn level is nearly same if the customer own StreamingTV or not."
   ]
  },
  {
   "cell_type": "code",
   "execution_count": null,
   "id": "d7648c81",
   "metadata": {},
   "outputs": [],
   "source": [
    "# checking churn level in streamingmovies\n",
    "sns.catplot(x='StreamingMovies',hue='Churn',palette='cividis',kind=\"count\",data=df)\n",
    "plt.show()"
   ]
  },
  {
   "cell_type": "markdown",
   "id": "f3e2a492",
   "metadata": {},
   "source": [
    "The customers who are existing in the company they do not own StreamingMovies in their devices And the churn rate is low when the customer do not have internet services."
   ]
  },
  {
   "cell_type": "code",
   "execution_count": null,
   "id": "a988946c",
   "metadata": {},
   "outputs": [],
   "source": [
    "#checking churn level in contract\n",
    "sns.catplot(x='Contract',hue='Churn',palette=\"gnuplot2\",kind=\"count\",data=df)\n",
    "plt.show()\n"
   ]
  },
  {
   "cell_type": "markdown",
   "id": "f32a41e8",
   "metadata": {},
   "source": [
    "The customers who have churned are mostly having month to month contract."
   ]
  },
  {
   "cell_type": "code",
   "execution_count": null,
   "id": "96fa0ea6",
   "metadata": {},
   "outputs": [],
   "source": [
    "# checking churn level in paperlessBillibg\n",
    "sns.catplot(x='PaperlessBilling',hue='Churn',palette=\"gist_earth\",kind=\"count\",data=df)\n",
    "plt.show()"
   ]
  },
  {
   "cell_type": "markdown",
   "id": "81bdba96",
   "metadata": {},
   "source": [
    "The customers who prefer paperless billing they have chumrate."
   ]
  },
  {
   "cell_type": "code",
   "execution_count": null,
   "id": "5736d85b",
   "metadata": {},
   "outputs": [],
   "source": [
    "# checking churn level in paymentmethod\n",
    "sns.catplot(x='PaymentMethod',hue='Churn',palette=\"gnuplot\",kind=\"count\",data=df)\n",
    "plt.xticks(rotation=90)\n",
    "plt.show()"
   ]
  },
  {
   "cell_type": "markdown",
   "id": "bcbc5a1d",
   "metadata": {},
   "source": [
    "The customers who prefer Electronic check have high churn rate also the customers who existing in the company uses equal payment method."
   ]
  },
  {
   "cell_type": "markdown",
   "id": "ebaffda3",
   "metadata": {},
   "source": [
    "## Multivariate Analysis"
   ]
  },
  {
   "cell_type": "code",
   "execution_count": null,
   "id": "dd36e18a",
   "metadata": {},
   "outputs": [],
   "source": [
    "sns.pairplot(df,hue=\"Churn\",palette=\"Dark2\")\n",
    "plt.show()"
   ]
  },
  {
   "cell_type": "markdown",
   "id": "a0a656e2",
   "metadata": {},
   "source": [
    "The pairplot gives the pairwise relation between the features on the basis of the target \"Churn\". On the diagonal we can notice the distribution plots.\n",
    "\n",
    "The features tenure and TotalCharges, Monthlycharges and TotalCharges have strong linear relation with each other.\n",
    "\n",
    "There are no outliers in any of the columns but let's plot box plot to identify the outliers."
   ]
  },
  {
   "cell_type": "markdown",
   "id": "1c8f7704",
   "metadata": {},
   "source": [
    "## Identifying the outliers"
   ]
  },
  {
   "cell_type": "code",
   "execution_count": null,
   "id": "5984db58",
   "metadata": {},
   "outputs": [],
   "source": [
    "# let's check the outliers by plotting bbox plot\n",
    "\n",
    "plt.figure(figsize=(10,8),facecolor='white')\n",
    "plotnumber=1\n",
    "for column in numerical_col:\n",
    "    if plotnumber<=4:\n",
    "        ax=plt.subplot(2,2,plotnumber)\n",
    "        sns.boxplot(df[column],palette=\"Set2_r\")\n",
    "        plt.xlabel(column,fontsize=12)\n",
    "        plt.yticks(rotation=0,size=12)\n",
    "    plotnumber+=1\n",
    "    plt.tight_layout()"
   ]
  },
  {
   "cell_type": "markdown",
   "id": "f68a2727",
   "metadata": {},
   "source": [
    "The column Senior Citizen has outliers but it contains categorical data so no need to remove outliers. Apart from this none of the columns have outliers."
   ]
  },
  {
   "cell_type": "markdown",
   "id": "3995c573",
   "metadata": {},
   "source": [
    "## Checking for skewness"
   ]
  },
  {
   "cell_type": "code",
   "execution_count": null,
   "id": "1367f248",
   "metadata": {},
   "outputs": [],
   "source": [
    "# checking for skewness\n",
    "df.skew()"
   ]
  },
  {
   "cell_type": "markdown",
   "id": "bc37d744",
   "metadata": {},
   "source": [
    "The columns SeniorCitizen and TotalCharges have skewness in the data. Since SeniorCitizen is categorical no need to remove skewness but in TotalCharges. Since TotalCharges is continuous in nature, lets use cube root method to remove skewness."
   ]
  },
  {
   "cell_type": "markdown",
   "id": "36c21767",
   "metadata": {},
   "source": [
    "## Removing skewness"
   ]
  },
  {
   "cell_type": "code",
   "execution_count": null,
   "id": "ff5c2632",
   "metadata": {},
   "outputs": [],
   "source": [
    "# removing skewness using square root method\n",
    "df[\"TotalCharges\"] = np.cbrt(df[\"TotalCharges\"])"
   ]
  },
  {
   "cell_type": "markdown",
   "id": "81d5e9cf",
   "metadata": {},
   "source": [
    "we have removed the skewness using cube root method."
   ]
  },
  {
   "cell_type": "code",
   "execution_count": null,
   "id": "02988784",
   "metadata": {},
   "outputs": [],
   "source": [
    "#checking skewness\n",
    "df.skew()"
   ]
  },
  {
   "cell_type": "markdown",
   "id": "588208dc",
   "metadata": {},
   "source": [
    "We can see the skewness has been reduced in TotalCharges column."
   ]
  },
  {
   "cell_type": "code",
   "execution_count": null,
   "id": "8f06de4a",
   "metadata": {},
   "outputs": [],
   "source": [
    "# let's visualize how the data has been distributed in toatalchharges after removing skewness\n",
    "sns.distplot(df[\"TotalCharges\"],color=\"m\",kde_kws={\"shade\": True},hist=False)\n",
    "plt.show()"
   ]
  },
  {
   "cell_type": "markdown",
   "id": "8a69f091",
   "metadata": {},
   "source": [
    "The looks almost normal and skewness is removed."
   ]
  },
  {
   "cell_type": "markdown",
   "id": "a4368fca",
   "metadata": {},
   "source": [
    "## Encoding the categorical columns using Ordinal Encoding"
   ]
  },
  {
   "cell_type": "code",
   "execution_count": null,
   "id": "25d3b4d9",
   "metadata": {},
   "outputs": [],
   "source": [
    "from sklearn.preprocessing import OrdinalEncoder\n",
    "OE = OrdinalEncoder()\n",
    "for i in df.columns:\n",
    "    if df[i].dtypes==\"object\":\n",
    "        df[i]=OE.fit_transform(df[i].values.reshape(-1,1))\n",
    "df"
   ]
  },
  {
   "cell_type": "markdown",
   "id": "eb0c3ba2",
   "metadata": {},
   "source": [
    "Now we have converted the categorical columns into numerical columns using Ordinal Encoding method."
   ]
  },
  {
   "cell_type": "code",
   "execution_count": null,
   "id": "76d6738e",
   "metadata": {},
   "outputs": [],
   "source": [
    "# statistical summary of numerical columns\n",
    "df.describe()"
   ]
  },
  {
   "cell_type": "markdown",
   "id": "a949dfd6",
   "metadata": {},
   "source": [
    "After encoding the categorical column we are able to see all the columns details here. The counts of all the columns are same that means no null values in the dataset. This describe method descrbes the count, mean, standard deviation, min, IQR and max values of all the columns."
   ]
  },
  {
   "cell_type": "markdown",
   "id": "b9e59f9c",
   "metadata": {},
   "source": [
    "## Correlation between the target variable and independent variables using HEAT map"
   ]
  },
  {
   "cell_type": "code",
   "execution_count": null,
   "id": "cf269480",
   "metadata": {},
   "outputs": [],
   "source": [
    "#checking the correlatipon between features and the target\n",
    "cor =df.corr()\n",
    "cor"
   ]
  },
  {
   "cell_type": "markdown",
   "id": "a8d9208d",
   "metadata": {},
   "source": [
    "This gives the correlation between the dependent and independent variables. We can visualize this by plotting heat map."
   ]
  },
  {
   "cell_type": "code",
   "execution_count": null,
   "id": "4c415812",
   "metadata": {},
   "outputs": [],
   "source": [
    "#visualizing the correlation matrix by plotting heat map\n",
    "plt.figure(figsize=(20,15))\n",
    "sns.heatmap(df.corr(),linewidths=.1, vmin=-1, vmax=1, fmt='.1g',linecolor=\"black\", annot = True, annot_kws={'size':10},cmap=\"cubehelix_r\")\n",
    "plt.yticks(rotation=0);"
   ]
  },
  {
   "cell_type": "markdown",
   "id": "838cdb3a",
   "metadata": {},
   "source": [
    "This heatmap shows the correlation matrix by visualizing the data. we can observe the relation between feature to feature and feature to label. This heat mapcontains both positive and negative correlation.\n",
    "\n",
    "There is no much positive correlation between the target and features.\n",
    "\n",
    "The columns MonthlyCharges, PaperlessBilling, SeniorCitizen and PaymentMethod have positive collrelation with the label Churn.\n",
    "\n",
    "The label is negatively correlated with Contract, tenure, OnlineSecurity, TechSupport, TotalCharges, DeviceProtection, OnlineBackup, Partner and Dependents.\n",
    "\n",
    "Also the column gender has very less correlation with the label, we can drop it if necessary.\n",
    "\n",
    "The columns TotalCharges and tenure, Contract and tenure, TotalCharges and MonthlyCharges and many other columns have high correlation with each other. This leads to multicolllinearity issue, to overcome with this problem we will check VIF values and then we will drop the columns having VIF above 10."
   ]
  },
  {
   "cell_type": "code",
   "execution_count": null,
   "id": "bee666f7",
   "metadata": {},
   "outputs": [],
   "source": [
    "cor['Churn'].sort_values(ascending=False)"
   ]
  },
  {
   "cell_type": "markdown",
   "id": "6bdef7e7",
   "metadata": {},
   "source": [
    "We can observe the positive(+) and negative(-) correlated features with the target here"
   ]
  },
  {
   "cell_type": "markdown",
   "id": "83dda790",
   "metadata": {},
   "source": [
    "## Visualizing the correlation between label and features using barplot"
   ]
  },
  {
   "cell_type": "code",
   "execution_count": null,
   "id": "177ec382",
   "metadata": {},
   "outputs": [],
   "source": [
    "plt.figure(figsize=(22,7))\n",
    "df.corr()['Churn'].sort_values(ascending=False).drop(['Churn']).plot(kind='bar',color=\"m\")\n",
    "plt.xlabel('Feature',fontsize=20)\n",
    "plt.ylabel('Target',fontsize=20)\n",
    "plt.title('correlation between label and feature using bar plot',fontsize=25)\n",
    "plt.show()"
   ]
  },
  {
   "cell_type": "markdown",
   "id": "6af50a66",
   "metadata": {},
   "source": [
    "from the above bar plot we can notice the positive(+) and negative(-) correlation between the features and the target. Here the features gender and PhoneService have very less correlation with the column."
   ]
  },
  {
   "cell_type": "markdown",
   "id": "62b4226a",
   "metadata": {},
   "source": [
    "## Separting the feature and label into x and y"
   ]
  },
  {
   "cell_type": "code",
   "execution_count": null,
   "id": "c3a11eaa",
   "metadata": {},
   "outputs": [],
   "source": [
    "x= df.drop(\"Churn\",axis=1)\n",
    "y= df[\"Churn\"]"
   ]
  },
  {
   "cell_type": "code",
   "execution_count": null,
   "id": "7ab8ade9",
   "metadata": {},
   "outputs": [],
   "source": [
    "#dimension  of x\n",
    "x.shape"
   ]
  },
  {
   "cell_type": "code",
   "execution_count": null,
   "id": "6b150a92",
   "metadata": {},
   "outputs": [],
   "source": [
    "#dimension of y\n",
    "y.shape"
   ]
  },
  {
   "cell_type": "markdown",
   "id": "9922c8da",
   "metadata": {},
   "source": [
    "## Feature Scaling using Standard Scalarization"
   ]
  },
  {
   "cell_type": "code",
   "execution_count": null,
   "id": "9c7d249a",
   "metadata": {},
   "outputs": [],
   "source": [
    "from sklearn.preprocessing import StandardScaler\n",
    "\n",
    "scaler=StandardScaler()\n",
    "x=pd.DataFrame(scaler.fit_transform(x),columns=x.columns)\n",
    "x"
   ]
  },
  {
   "cell_type": "markdown",
   "id": "6659b7e3",
   "metadata": {},
   "source": [
    "We have scaled the data using standard scalarizaion method to overcome with the issue of data biasness.\n",
    "\n",
    "\n",
    "In the heat map we have found some features having high correlation between each other which means multicollinearity problem so let's check the VIF value to solve multicollinearity problem."
   ]
  },
  {
   "cell_type": "markdown",
   "id": "23965a48",
   "metadata": {},
   "source": [
    "## Checking Variance Inflation Factor(VIF)"
   ]
  },
  {
   "cell_type": "code",
   "execution_count": null,
   "id": "ae54a08f",
   "metadata": {},
   "outputs": [],
   "source": [
    "# Finding varience inflation factor in each scaled column i.e, x.shape[1] (1/(1-R2))\n",
    "\n",
    "from statsmodels.stats.outliers_influence import variance_inflation_factor\n",
    "vif = pd.DataFrame()\n",
    "vif[\"VIF values\"] = [variance_inflation_factor(x.values,i)\n",
    "              for i in range(len(x.columns))]\n",
    "vif[\"Features\"] = x.columns\n",
    "\n",
    "# Let's check the values\n",
    "vif"
   ]
  },
  {
   "cell_type": "markdown",
   "id": "cfed8184",
   "metadata": {},
   "source": [
    "By checking VIF value we can find the features which causing multicollinearity problem. Here we can find the feature TotalCharges and tenure have VIF value greater than 10 which means they have high correlation with the other features. We will drop one of the column first, if the same issue exist then we will try to remove the column having high VIF(above 10)."
   ]
  },
  {
   "cell_type": "code",
   "execution_count": null,
   "id": "e91a84d9",
   "metadata": {},
   "outputs": [],
   "source": [
    "#dropping totalcharges column\n",
    "x.drop(\"TotalCharges\",axis=1,inplace=True)"
   ]
  },
  {
   "cell_type": "code",
   "execution_count": null,
   "id": "670e59c0",
   "metadata": {},
   "outputs": [],
   "source": [
    "#Again checking VIF value to confirm whether the multicollinearity still exists or not\n",
    "vif = pd.DataFrame()\n",
    "vif[\"VIF values\"] = [variance_inflation_factor(x.values,i)\n",
    "              for i in range(len(x.columns))]\n",
    "vif[\"Features\"] = x.columns\n",
    "\n",
    "#let's check the values\n",
    "vif"
   ]
  },
  {
   "cell_type": "markdown",
   "id": "b2463e57",
   "metadata": {},
   "source": [
    "All the columns have VIF less than 10 which means the data is free from multicollinearity problem. So we can move further to build our machine learning models."
   ]
  },
  {
   "cell_type": "code",
   "execution_count": null,
   "id": "0ed912f8",
   "metadata": {},
   "outputs": [],
   "source": [
    "y.value_counts()"
   ]
  },
  {
   "cell_type": "markdown",
   "id": "3013377e",
   "metadata": {},
   "source": [
    "Here we can observe the data is not balanced, since it is classification problem we will balance the data using oversampling method."
   ]
  },
  {
   "cell_type": "markdown",
   "id": "315fae0b",
   "metadata": {},
   "source": [
    "## Oversampling"
   ]
  },
  {
   "cell_type": "code",
   "execution_count": null,
   "id": "a4f68c17",
   "metadata": {},
   "outputs": [],
   "source": [
    "#oversampling the data\n",
    "from imblearn.over_sampling import SMOTE\n",
    "SM = SMOTE()\n",
    "x, y = SM.fit_resample(x,y)"
   ]
  },
  {
   "cell_type": "code",
   "execution_count": null,
   "id": "bfb71d6a",
   "metadata": {},
   "outputs": [],
   "source": [
    "# checking value count oftarget column\n",
    "y.value_counts()"
   ]
  },
  {
   "cell_type": "markdown",
   "id": "024bba3f",
   "metadata": {},
   "source": [
    "We have used oversampling method to balance the data and checked the value count.\n",
    "\n",
    "Since the highest count of Churn column is 5174 so the data is balanced by oversampling all the categories to the count 5174.\n",
    "\n",
    "Finally the data is also balanced then we can build our machine leaning classification models."
   ]
  },
  {
   "cell_type": "markdown",
   "id": "12403e00",
   "metadata": {},
   "source": [
    "## Modeling"
   ]
  },
  {
   "cell_type": "markdown",
   "id": "c967f0d0",
   "metadata": {},
   "source": [
    "## Finding best random state"
   ]
  },
  {
   "cell_type": "code",
   "execution_count": null,
   "id": "67ab6bbb",
   "metadata": {},
   "outputs": [],
   "source": [
    "from sklearn.ensemble import RandomForestClassifier\n",
    "from sklearn.model_selection import train_test_split\n",
    "from sklearn.metrics import accuracy_score\n",
    "maxAccu=0\n",
    "maxRS=0\n",
    "for i in range(1,200):\n",
    "    x_train,x_test,y_train,y_test = train_test_split(x,y,test_size=.30, random_state =i)\n",
    "    DTC = RandomForestClassifier()\n",
    "    DTC.fit(x_train, y_train)\n",
    "    pred = DTC.predict(x_test)\n",
    "    acc=accuracy_score(y_test, pred)\n",
    "    if acc>maxAccu:\n",
    "        maxAccu=acc\n",
    "        maxRS=i\n",
    "print(\"Best accuracy is \",maxAccu,\"on Random_state\",maxRS)"
   ]
  },
  {
   "cell_type": "markdown",
   "id": "1fd201fd",
   "metadata": {},
   "source": [
    "\n",
    "\n",
    "We have got the best random state and maximum accuracy"
   ]
  },
  {
   "cell_type": "markdown",
   "id": "bd97a401",
   "metadata": {},
   "source": [
    "Creating Train_test split"
   ]
  },
  {
   "cell_type": "code",
   "execution_count": null,
   "id": "6a732bea",
   "metadata": {},
   "outputs": [],
   "source": [
    "x_train,x_test,y_train,y_test=train_test_split(x,y,test_size=.30,random_state=maxRS)"
   ]
  },
  {
   "cell_type": "markdown",
   "id": "eff17841",
   "metadata": {},
   "source": [
    "we have created a new train test split using Random State."
   ]
  },
  {
   "cell_type": "markdown",
   "id": "063e38f6",
   "metadata": {},
   "source": [
    "## Classification Algorithms"
   ]
  },
  {
   "cell_type": "code",
   "execution_count": null,
   "id": "36f3b977",
   "metadata": {},
   "outputs": [],
   "source": [
    "### importing necessary libraries.\n",
    "from sklearn.tree import DecisionTreeClassifier\n",
    "from sklearn.ensemble import RandomForestClassifier\n",
    "from sklearn.svm import SVC\n",
    "from sklearn.naive_bayes import BernoulliNB\n",
    "from sklearn.ensemble import ExtraTreesClassifier\n",
    "from sklearn.linear_model import LogisticRegression\n",
    "from sklearn.metrics import classification_report\n",
    "from sklearn.ensemble import GradientBoostingClassifier\n",
    "from sklearn.neighbors import KNeighborsClassifier as KNN\n",
    "from sklearn.naive_bayes import GaussianNB as NB\n",
    "from sklearn.metrics import classification_report, confusion_matrix, roc_curve, roc_auc_score, accuracy_score"
   ]
  },
  {
   "cell_type": "markdown",
   "id": "5a1ebb2f",
   "metadata": {},
   "source": [
    "## Random Forest Classifier"
   ]
  },
  {
   "cell_type": "code",
   "execution_count": null,
   "id": "76285fd1",
   "metadata": {},
   "outputs": [],
   "source": [
    "# Checking accuracy for Random Forest Classifier\n",
    "RFC = RandomForestClassifier()\n",
    "RFC.fit(x_train,y_train)\n",
    "\n",
    "# Prediction\n",
    "predRFC = RFC.predict(x_test)\n",
    "\n",
    "print(accuracy_score(y_test, predRFC))\n",
    "print(confusion_matrix(y_test, predRFC))\n",
    "print(classification_report(y_test,predRFC))"
   ]
  },
  {
   "cell_type": "markdown",
   "id": "0d3c9e20",
   "metadata": {},
   "source": [
    "Here we have created the Random Forest Classifier model and getting the accuracy for this model as 81.16%."
   ]
  },
  {
   "cell_type": "code",
   "execution_count": null,
   "id": "d471422a",
   "metadata": {},
   "outputs": [],
   "source": [
    "# Lets plot confusion matrix for RandomForestClassifier\n",
    "cm = confusion_matrix(y_test,predRFC)\n",
    "\n",
    "x_axis_labels = [\"0\",\"1\"]\n",
    "y_axis_labels = [\"0\",\"1\"]\n",
    "\n",
    "f , ax = plt.subplots(figsize=(7,7))\n",
    "sns.heatmap(cm, annot = True,linewidths=.2, linecolor=\"black\", fmt = \".0f\", ax=ax, cmap=\"gnuplot\",xticklabels=x_axis_labels,yticklabels=y_axis_labels)\n",
    "\n",
    "plt.xlabel(\"PREDICTED LABEL\")\n",
    "plt.ylabel(\"TRUE LABEL\")\n",
    "plt.title('Confusion Matrix for RandomForestClassifier')\n",
    "plt.show()"
   ]
  },
  {
   "cell_type": "markdown",
   "id": "210e07ed",
   "metadata": {},
   "source": [
    "With the help of confusion matrix we can able observe the true positive rate, false positive rate, true negative rate and false negative rate. And is plotted predicted value againt True values."
   ]
  },
  {
   "cell_type": "markdown",
   "id": "886c61af",
   "metadata": {},
   "source": [
    "## Logistic Regression"
   ]
  },
  {
   "cell_type": "code",
   "execution_count": null,
   "id": "ffc001b8",
   "metadata": {},
   "outputs": [],
   "source": [
    "# Checking accuracy for Logistic Regression Classifier\n",
    "\n",
    "LR = LogisticRegression()\n",
    "LR.fit(x_train,y_train)\n",
    "\n",
    "# Prediction\n",
    "predLR = LR.predict(x_test)\n",
    "\n",
    "print(accuracy_score(y_test, predLR))\n",
    "print(confusion_matrix(y_test, predLR))\n",
    "print(classification_report(y_test,predLR))"
   ]
  },
  {
   "cell_type": "markdown",
   "id": "5605402c",
   "metadata": {},
   "source": [
    "We have created Logistic Regression model which is giving the accuracy 82.01%."
   ]
  },
  {
   "cell_type": "code",
   "execution_count": null,
   "id": "49c89716",
   "metadata": {},
   "outputs": [],
   "source": [
    "# Lets plot confusion matrix for Logistic Regression\n",
    "cm = confusion_matrix(y_test,predLR)\n",
    "\n",
    "x_axis_labels = [\"0\",\"1\"]\n",
    "y_axis_labels = [\"0\",\"1\"]\n",
    "\n",
    "f , ax = plt.subplots(figsize=(8,8))\n",
    "sns.heatmap(cm, annot = True,linewidths=.2, linecolor=\"black\", fmt = \".0f\", ax=ax, cmap=\"gnuplot\",xticklabels=x_axis_labels,yticklabels=y_axis_labels)\n",
    "\n",
    "plt.xlabel(\"PREDICTED LABEL\")\n",
    "plt.ylabel(\"TRUE LABEL\")\n",
    "plt.title('Confusion Matrix for Logistic Regression Classifier')\n",
    "plt.show()"
   ]
  },
  {
   "cell_type": "markdown",
   "id": "de2372be",
   "metadata": {},
   "source": [
    "With the help of confusion matrix we can able observe the true positive rate, false positive rate, true negative rate and false negative rate. And is plotted predicted value againt True values."
   ]
  },
  {
   "cell_type": "markdown",
   "id": "1e619a5a",
   "metadata": {},
   "source": [
    "## Support Vector Machine Classifier"
   ]
  },
  {
   "cell_type": "code",
   "execution_count": null,
   "id": "c89d5c74",
   "metadata": {},
   "outputs": [],
   "source": [
    "# checking accuracy for support vector machine classifier\n",
    "svc = SVC()\n",
    "svc.fit(x_train,y_train)\n",
    "\n",
    "# Prediction\n",
    "predsvc = svc.predict(x_test)\n",
    "\n",
    "print(accuracy_score(y_test, predsvc))\n",
    "print(confusion_matrix(y_test, predsvc))\n",
    "print(classification_report(y_test,predsvc))"
   ]
  },
  {
   "cell_type": "markdown",
   "id": "1ba306e0",
   "metadata": {},
   "source": [
    "Created SVC model and it is giving the accuracy as 81.35%."
   ]
  },
  {
   "cell_type": "code",
   "execution_count": null,
   "id": "bc50eece",
   "metadata": {},
   "outputs": [],
   "source": [
    "# Lets plot confusion matrix for Support Vector Machine Classifier\n",
    "\n",
    "cm = confusion_matrix(y_test,predsvc)\n",
    "\n",
    "x_axis_labels = [\"0\",\"1\"]\n",
    "y_axis_labels = [\"0\",\"1\"]\n",
    "\n",
    "f , ax = plt.subplots(figsize=(8,8))\n",
    "sns.heatmap(cm, annot = True,linewidths=.2, linecolor=\"black\", fmt = \".0f\", ax=ax, cmap=\"gnuplot\",xticklabels=x_axis_labels,yticklabels=y_axis_labels)\n",
    "\n",
    "plt.xlabel(\"PREDICTED LABEL\")\n",
    "plt.ylabel(\"TRUE LABEL\")\n",
    "plt.title('Confusion Matrix for Support Vector Machine Classifier')\n",
    "plt.show()\n"
   ]
  },
  {
   "cell_type": "markdown",
   "id": "ac7f88f4",
   "metadata": {},
   "source": [
    "With the help of confusion matrix we can able observe the true positive rate, false positive rate, true negative rate and false negative rate. And is plotted predicted value againt True values."
   ]
  },
  {
   "cell_type": "markdown",
   "id": "c979682b",
   "metadata": {},
   "source": [
    "## Gradient Boosting Classifier"
   ]
  },
  {
   "cell_type": "code",
   "execution_count": null,
   "id": "51dc304f",
   "metadata": {},
   "outputs": [],
   "source": [
    "# Checking accuracy for Gradient Boosting Classifier\n",
    "\n",
    "GB = GradientBoostingClassifier()\n",
    "GB.fit(x_train,y_train)\n",
    "\n",
    "# Prediction\n",
    "predGB = GB.predict(x_test)\n",
    "\n",
    "print(accuracy_score(y_test, predGB))\n",
    "print(confusion_matrix(y_test, predGB))\n",
    "print(classification_report(y_test,predGB))"
   ]
  },
  {
   "cell_type": "markdown",
   "id": "82d9c099",
   "metadata": {},
   "source": [
    "We have created Gradient Boosting Classifier and the accuracy is 82.25%."
   ]
  },
  {
   "cell_type": "code",
   "execution_count": null,
   "id": "1886343a",
   "metadata": {},
   "outputs": [],
   "source": [
    "# Lets plot confusion matrix for Gradient Boosting Classifier\n",
    "\n",
    "cm = confusion_matrix(y_test,predGB)\n",
    "\n",
    "x_axis_labels = [\"0\",\"1\"]\n",
    "y_axis_labels = [\"0\",\"1\"]\n",
    "\n",
    "f , ax = plt.subplots(figsize=(7,7))\n",
    "sns.heatmap(cm, annot = True,linewidths=.2, linecolor=\"black\", fmt = \".0f\", ax=ax, cmap=\"gnuplot\",xticklabels=x_axis_labels,yticklabels=y_axis_labels)\n",
    "\n",
    "plt.xlabel(\"PREDICTED LABEL\")\n",
    "plt.ylabel(\"TRUE LABEL\")\n",
    "plt.title('Confusion Matrix for Gradient Boosting Classifier')\n",
    "plt.show()"
   ]
  },
  {
   "cell_type": "markdown",
   "id": "5a4c70a8",
   "metadata": {},
   "source": [
    "With the help of confusion matrix we can able observe the true positive rate, false positive rate, true negative rate and false negative rate. And is plotted predicted value againt True val"
   ]
  },
  {
   "cell_type": "markdown",
   "id": "93a0312c",
   "metadata": {},
   "source": [
    "## Extra Trees Classifier"
   ]
  },
  {
   "cell_type": "code",
   "execution_count": null,
   "id": "2a3926eb",
   "metadata": {},
   "outputs": [],
   "source": [
    "# Checking accuracy for ExtraTreesClassifier\n",
    "XT = ExtraTreesClassifier()\n",
    "XT.fit(x_train,y_train)\n",
    "\n",
    "# Prediction\n",
    "predXT = XT.predict(x_test)\n",
    "\n",
    "print(accuracy_score(y_test, predXT))\n",
    "print(confusion_matrix(y_test, predXT))\n",
    "print(classification_report(y_test,predXT))"
   ]
  },
  {
   "cell_type": "markdown",
   "id": "ec9f9ffe",
   "metadata": {},
   "source": [
    "Created ExtraTrees Classifier model and getting accuracy for this model as 78.79%."
   ]
  },
  {
   "cell_type": "code",
   "execution_count": null,
   "id": "556a9eb3",
   "metadata": {},
   "outputs": [],
   "source": [
    "# Lets plot confusion matrix for  ExtraTreesClassifier\n",
    "\n",
    "cm = confusion_matrix(y_test,predXT)\n",
    "\n",
    "x_axis_labels = [\"0\",\"1\"]\n",
    "y_axis_labels = [\"0\",\"1\"]\n",
    "\n",
    "f , ax = plt.subplots(figsize=(7,7))\n",
    "sns.heatmap(cm, annot = True,linewidths=.2, linecolor=\"black\", fmt = \".0f\", ax=ax, cmap=\"gnuplot\",xticklabels=x_axis_labels,yticklabels=y_axis_labels)\n",
    "\n",
    "plt.xlabel(\"PREDICTED LABEL\")\n",
    "plt.ylabel(\"TRUE LABEL\")\n",
    "plt.title('Confusion Matrix for  ExtraTrees Classifier')\n",
    "plt.show\n"
   ]
  },
  {
   "cell_type": "markdown",
   "id": "5ece05f7",
   "metadata": {},
   "source": [
    "With the help of confusion matrix we can able observe the true positive rate, false positive rate, true negative rate and false negative rate. And is plotted predicted value againt True values."
   ]
  },
  {
   "cell_type": "markdown",
   "id": "dd2d3000",
   "metadata": {},
   "source": [
    "## Cross Validation Score"
   ]
  },
  {
   "cell_type": "code",
   "execution_count": null,
   "id": "4ac9d785",
   "metadata": {},
   "outputs": [],
   "source": [
    "#Importing library\n",
    "from sklearn.model_selection import cross_val_score"
   ]
  },
  {
   "cell_type": "code",
   "execution_count": null,
   "id": "e93e7239",
   "metadata": {},
   "outputs": [],
   "source": [
    "# cv score for random forest classifier\n",
    "print(cross_val_score(RFC,x,y,cv=5).mean())"
   ]
  },
  {
   "cell_type": "code",
   "execution_count": null,
   "id": "19027524",
   "metadata": {},
   "outputs": [],
   "source": [
    "# cv score for logistic regression\n",
    "print(cross_val_score(LR,x,y,cv=5).mean())"
   ]
  },
  {
   "cell_type": "code",
   "execution_count": null,
   "id": "3d712dd0",
   "metadata": {},
   "outputs": [],
   "source": [
    "# cv score for support vector machine classifier\n",
    "print(cross_val_score(svc,x,y,cv=5).mean())"
   ]
  },
  {
   "cell_type": "code",
   "execution_count": null,
   "id": "931ff1b9",
   "metadata": {},
   "outputs": [],
   "source": [
    "# cv score for Gradient Boosting Classifier\n",
    "print(cross_val_score(GB,x,y,cv=5).mean())"
   ]
  },
  {
   "cell_type": "code",
   "execution_count": null,
   "id": "ca80bf97",
   "metadata": {},
   "outputs": [],
   "source": [
    "# cv score for Extra Trees Classifier\n",
    "print(cross_val_score(XT,x,y,cv=5).mean())"
   ]
  },
  {
   "cell_type": "markdown",
   "id": "249fe74b",
   "metadata": {},
   "source": [
    "above are all the cross validation score or the models\n",
    "\n",
    "The difference between accuracy score and cross validation score for the models used\n",
    "\n",
    "Random Forest Classifier = 1.46%\n",
    "\n",
    "Logistic Regression = 1.03%\n",
    "\n",
    "SVC = 1.97%\n",
    "\n",
    "Gradient Boosting Classifier = 2.34%\n",
    "\n",
    "ExtraTrees Classifier = 0.67%"
   ]
  },
  {
   "cell_type": "markdown",
   "id": "cec76c80",
   "metadata": {},
   "source": [
    "## Hyper Parameter Tuning"
   ]
  },
  {
   "cell_type": "code",
   "execution_count": null,
   "id": "875a771b",
   "metadata": {},
   "outputs": [],
   "source": [
    "# ExtraTrees Classifier\n",
    "\n",
    "from sklearn.model_selection import GridSearchCV\n",
    "\n",
    "parameters = {'criterion' : ['gini','entropy'],\n",
    "              'random_state' : [10, 50, 1000],\n",
    "              'max_depth' : [0, 10, 20],\n",
    "              'n_jobs' : [-2, -1, 1],\n",
    "              'n_estimators' : [50,100, 200, 300]}"
   ]
  },
  {
   "cell_type": "markdown",
   "id": "4a82749f",
   "metadata": {},
   "source": [
    "These are the parameters for Extra Trees classifier."
   ]
  },
  {
   "cell_type": "code",
   "execution_count": null,
   "id": "701f9d69",
   "metadata": {},
   "outputs": [],
   "source": [
    "GCV=GridSearchCV(ExtraTreesClassifier(),parameters,cv=5)"
   ]
  },
  {
   "cell_type": "markdown",
   "id": "711b9174",
   "metadata": {},
   "source": [
    "Running GridSearchCV for Extra Trees Classifier."
   ]
  },
  {
   "cell_type": "code",
   "execution_count": null,
   "id": "4a45a415",
   "metadata": {},
   "outputs": [],
   "source": [
    "GCV.fit(x_train,y_train)"
   ]
  },
  {
   "cell_type": "code",
   "execution_count": null,
   "id": "68970603",
   "metadata": {},
   "outputs": [],
   "source": [
    "GCV.best_params_"
   ]
  },
  {
   "cell_type": "markdown",
   "id": "172bae65",
   "metadata": {},
   "source": [
    "These are the best parameters values that we have got for Extra Trees classifier."
   ]
  },
  {
   "cell_type": "code",
   "execution_count": null,
   "id": "eea0da44",
   "metadata": {},
   "outputs": [],
   "source": [
    "FinalModel = ExtraTreesClassifier(criterion='gini', max_depth=20, n_estimators=300, n_jobs=-2, random_state=10)\n",
    "FinalModel.fit(x_train, y_train)\n",
    "pred = FinalModel.predict(x_test)\n",
    "acc=accuracy_score(y_test,pred)\n",
    "print(acc*100)"
   ]
  },
  {
   "cell_type": "markdown",
   "id": "b2c42692",
   "metadata": {},
   "source": [
    "The accuracy of best model increased after tuning and giving 86.82% which is very good."
   ]
  },
  {
   "cell_type": "code",
   "execution_count": null,
   "id": "145e97fa",
   "metadata": {},
   "outputs": [],
   "source": [
    "# Lets plot confusion matrix for  FinalModel\n",
    "\n",
    "cm = confusion_matrix(y_test,pred)\n",
    "\n",
    "x_axis_labels = [\"0\",\"1\"]\n",
    "y_axis_labels = [\"0\",\"1\"]\n",
    "\n",
    "f , ax = plt.subplots(figsize=(7,7))\n",
    "sns.heatmap(cm, annot = True,linewidths=.2, linecolor=\"black\", fmt = \".0f\", ax=ax, cmap=\"ocean\",xticklabels=x_axis_labels,yticklabels=y_axis_labels)\n",
    "\n",
    "plt.xlabel(\"PREDICTED LABEL\")\n",
    "plt.ylabel(\"TRUE LABEL\")\n",
    "plt.title('Confusion Matrix for  Final Model')\n",
    "plt.show()"
   ]
  },
  {
   "cell_type": "markdown",
   "id": "569b76e4",
   "metadata": {},
   "source": [
    "With the help of confusion matrix we can able to see actual and predicted values."
   ]
  },
  {
   "cell_type": "markdown",
   "id": "c16728fb",
   "metadata": {},
   "source": [
    "## Plotting ROC and compare AUC for all the models used"
   ]
  },
  {
   "cell_type": "code",
   "execution_count": null,
   "id": "ad0414a0",
   "metadata": {},
   "outputs": [],
   "source": [
    "# Plotting for all the models used here\n",
    "from sklearn import datasets \n",
    "from sklearn import metrics\n",
    "from sklearn import model_selection\n",
    "from sklearn.metrics import plot_roc_curve \n",
    "\n",
    "\n",
    "disp = plot_roc_curve(XT,x_test,y_test)     # ax_=Axes with confusion matrix\n",
    "plot_roc_curve(RFC, x_test, y_test, ax=disp.ax_)\n",
    "plot_roc_curve(LR, x_test, y_test, ax=disp.ax_)\n",
    "plot_roc_curve(svc, x_test, y_test, ax=disp.ax_)\n",
    "plot_roc_curve(GB, x_test, y_test, ax=disp.ax_)\n",
    "plot_roc_curve(XGB, x_test, y_test, ax=disp.ax_)\n",
    "\n",
    "plt.legend(prop={'size':11}, loc='lower right')\n",
    "plt.show()"
   ]
  },
  {
   "cell_type": "markdown",
   "id": "352c0b73",
   "metadata": {},
   "source": [
    "## Plotting ROC and Compare AUC for the best model"
   ]
  },
  {
   "cell_type": "code",
   "execution_count": null,
   "id": "f00c3fbb",
   "metadata": {},
   "outputs": [],
   "source": [
    "# Let's check the Auc for the best model after hyper parameter tuning\n",
    "plot_roc_curve(FinalModel, x_test, y_test)\n",
    "plt.title(\"ROC for the best model\")\n",
    "plt.show()\n"
   ]
  },
  {
   "cell_type": "markdown",
   "id": "cf81b9b7",
   "metadata": {},
   "source": [
    "## Saving The Model"
   ]
  },
  {
   "cell_type": "code",
   "execution_count": null,
   "id": "4a4de957",
   "metadata": {},
   "outputs": [],
   "source": [
    "# Saving the model using .pkl\n",
    "import joblib\n",
    "joblib.dump(FinalModel,\"Customer_Churn_Analysis.pkl\")"
   ]
  },
  {
   "cell_type": "markdown",
   "id": "a8beee3f",
   "metadata": {},
   "source": [
    "We have saved our model using joblib library."
   ]
  },
  {
   "cell_type": "markdown",
   "id": "cbcb4b6f",
   "metadata": {},
   "source": [
    "## Predicting the saved model"
   ]
  },
  {
   "cell_type": "code",
   "execution_count": null,
   "id": "ac83060c",
   "metadata": {},
   "outputs": [],
   "source": [
    "# Let's load the saved model and get the prediction\n",
    "\n",
    "# Loading the saved model\n",
    "model=joblib.load(\"Customer_Churn_Analysis.pkl\")\n",
    "\n",
    "#Prediction\n",
    "prediction = model.predict(x_test)\n",
    "prediction"
   ]
  },
  {
   "cell_type": "markdown",
   "id": "b128aff0",
   "metadata": {},
   "source": [
    "These are the predicted churned values of the customers."
   ]
  },
  {
   "cell_type": "code",
   "execution_count": null,
   "id": "643f9a81",
   "metadata": {},
   "outputs": [],
   "source": [
    "pd.DataFrame([model.predict(x_test)[:],y_test[:]],index=[\"Predicted\",\"Original\"]).T"
   ]
  },
  {
   "cell_type": "markdown",
   "id": "31ee7b59",
   "metadata": {},
   "source": [
    "Both actual and predicted values are almost same."
   ]
  },
  {
   "cell_type": "code",
   "execution_count": null,
   "id": "5223f5fb",
   "metadata": {},
   "outputs": [],
   "source": []
  }
 ],
 "metadata": {
  "kernelspec": {
   "display_name": "Python 3",
   "language": "python",
   "name": "python3"
  },
  "language_info": {
   "codemirror_mode": {
    "name": "ipython",
    "version": 3
   },
   "file_extension": ".py",
   "mimetype": "text/x-python",
   "name": "python",
   "nbconvert_exporter": "python",
   "pygments_lexer": "ipython3",
   "version": "3.8.8"
  }
 },
 "nbformat": 4,
 "nbformat_minor": 5
}
